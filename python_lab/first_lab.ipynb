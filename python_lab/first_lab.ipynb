{
 "cells": [
  {
   "cell_type": "markdown",
   "metadata": {},
   "source": [
    "#### First Lab\n",
    "- in this lab I'll file handle and clean the file and finde patherns in the data.\n",
    "- I'll also use matplotlib to visualize the data and draw as a charts.\n"
   ]
  },
  {
   "cell_type": "markdown",
   "metadata": {},
   "source": [
    "- I start by importing the necessary libraries and setting up the environment for data analysis and visualization. This typically includes libraries such as `pandas` for data manipulation, `numpy` for numerical operations, `matplotlib` for plotting, .\n",
    "\n",
    "- import numpy as np\n",
    "- import matplotlib\n",
    "- import pathlib"
   ]
  },
  {
   "cell_type": "code",
   "execution_count": 3,
   "metadata": {},
   "outputs": [],
   "source": [
    "import numpy as np \n",
    "import matplotlib.pyplot as plt\n",
    "\n",
    "\n",
    "saq_dirct = []\n",
    "current_kay = None\n",
    "# file handling \n",
    "\n",
    "## here we read the file and store the contentnts in a variale \n",
    "with open (\"dna_raw.txt\", 'r') as f_read:\n",
    "  for line in f_read:\n",
    "    f_read = line.strip()\n",
    "    f\n",
    "\n",
    "\n",
    "\n",
    "# we need too caoute the seqs\n",
    "\n"
   ]
  }
 ],
 "metadata": {
  "kernelspec": {
   "display_name": "Python 3",
   "language": "python",
   "name": "python3"
  },
  "language_info": {
   "codemirror_mode": {
    "name": "ipython",
    "version": 3
   },
   "file_extension": ".py",
   "mimetype": "text/x-python",
   "name": "python",
   "nbconvert_exporter": "python",
   "pygments_lexer": "ipython3",
   "version": "3.9.6"
  }
 },
 "nbformat": 4,
 "nbformat_minor": 2
}
