{
 "cells": [
  {
   "cell_type": "code",
   "execution_count": 40,
   "metadata": {},
   "outputs": [],
   "source": [
    "from gettext import install\n"
   ]
  },
  {
   "cell_type": "code",
   "execution_count": 42,
   "metadata": {},
   "outputs": [
    {
     "name": "stdout",
     "output_type": "stream",
     "text": [
      "[['>seq1'], ['cGTAaccaataaaaaaacaagcttaacctaattc'], ['>seq2'], ['agcttagTTTGGatctggccgggg'], ['>seq3'], ['gcggatttactcCCCCCAAAAANNaggggagagcccagataaatggagtctgtgcgtccaca'], ['>seq4'], ['gcggatttactcaggggagagcccagGGataaatggagtctgtgcgtccaca']]\n"
     ]
    }
   ],
   "source": [
    "from re import I\n",
    "import numpy as np \n",
    "import matplotlib.pyplot as plt\n",
    "import pathlib \n",
    "# file handling \n",
    "path = pathlib.Path().absolute()\n",
    "file_path = path / \"dna_raw.txt\"\n",
    "with open (file_path, \"r\") as f:\n",
    "    lines = f.readlines()\n",
    "# data processing \n",
    "data = [line.strip().split(\",\") for line in lines]\n",
    "\n",
    "    \n",
    "print(data)"
   ]
  }
 ],
 "metadata": {
  "kernelspec": {
   "display_name": "Python 3",
   "language": "python",
   "name": "python3"
  },
  "language_info": {
   "codemirror_mode": {
    "name": "ipython",
    "version": 3
   },
   "file_extension": ".py",
   "mimetype": "text/x-python",
   "name": "python",
   "nbconvert_exporter": "python",
   "pygments_lexer": "ipython3",
   "version": "3.9.6"
  }
 },
 "nbformat": 4,
 "nbformat_minor": 2
}
