{
 "cells": [
  {
   "cell_type": "markdown",
   "metadata": {},
   "source": [
    "#### First Lab\n",
    "- in this lab I'll file handle and clean the file and finde patherns in the data.\n",
    "- I'll also use matplotlib to visualize the data and draw as a charts.\n"
   ]
  },
  {
   "cell_type": "markdown",
   "metadata": {},
   "source": [
    "- I start by importing the necessary libraries and setting up the environment for data analysis and visualization. This typically includes libraries such as `pandas` for data manipulation, `numpy` for numerical operations, `matplotlib` for plotting, .\n",
    "\n",
    "- import numpy as np\n",
    "- import matplotlib\n",
    "- import pathlib"
   ]
  },
  {
   "cell_type": "code",
   "execution_count": 27,
   "metadata": {},
   "outputs": [
    {
     "name": "stdout",
     "output_type": "stream",
     "text": [
      "A: 6 (3.12%)\n",
      "T: 4 (2.08%)\n",
      "C: 5 (2.60%)\n",
      "G: 5 (2.60%)\n",
      "Total length: 192 nucleotides\n"
     ]
    }
   ],
   "source": [
    "import numpy as np \n",
    "import matplotlib.pyplot as plt\n",
    "import pathlib \n",
    "\n",
    "# file handling \n",
    "path = pathlib.Path().absolute()\n",
    "file_path = path / \"dna_raw.txt\"\n",
    "with open (file_path, \"r\") as f:\n",
    "    lines = f.readlines()\n",
    "# data processing \n"
   ]
  }
 ],
 "metadata": {
  "kernelspec": {
   "display_name": "Python 3",
   "language": "python",
   "name": "python3"
  },
  "language_info": {
   "codemirror_mode": {
    "name": "ipython",
    "version": 3
   },
   "file_extension": ".py",
   "mimetype": "text/x-python",
   "name": "python",
   "nbconvert_exporter": "python",
   "pygments_lexer": "ipython3",
   "version": "3.9.6"
  }
 },
 "nbformat": 4,
 "nbformat_minor": 2
}
