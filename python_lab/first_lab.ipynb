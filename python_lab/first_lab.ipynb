{
 "cells": [
  {
   "cell_type": "markdown",
   "metadata": {},
   "source": [
    "#### First Lab\n",
    "- in this lab I'll file handle and clean the file and finde patherns in the data.\n",
    "- I'll also use matplotlib to visualize the data and draw as a charts.\n"
   ]
  },
  {
   "cell_type": "markdown",
   "metadata": {},
   "source": [
    "- I start by importing the necessary libraries and setting up the environment for data analysis and visualization. This typically includes libraries such as `pandas` for data manipulation, `numpy` for numerical operations, `matplotlib` for plotting, .\n",
    "\n",
    "- import numpy as np\n",
    "- import matplotlib\n",
    "- import pathlib"
   ]
  },
  {
   "cell_type": "code",
   "execution_count": 6,
   "metadata": {},
   "outputs": [
    {
     "name": "stdout",
     "output_type": "stream",
     "text": [
      "Sequence: seq4\n",
      "length: 52\n",
      "Base counts: {'g': 16, 'c': 11, 'a': 13, 't': 10, 'G': 2}\n"
     ]
    }
   ],
   "source": [
    "import numpy as np \n",
    "import matplotlib.pyplot as plt\n",
    "from collections import Counter\n",
    "\n",
    "seq_dict = {}\n",
    "current_kay = None\n",
    "# file handling \n",
    "\n",
    "## here we read the file and store the contentnts in a variale \n",
    "with open (\"dna_raw.txt\", 'r') as file:\n",
    "  for line in file:\n",
    "    line = line.strip()\n",
    "    if line.startswith(\">\"):\n",
    "      current_kay = line [1:]\n",
    "      seq_dict[current_kay] = \"\"\n",
    "    else:\n",
    "      seq_dict[current_kay] += line \n",
    "for name, seq in seq_dict.items():\n",
    "  base_counts = Counter(seq)\n",
    "  Counter(\"AAGCTT\")\n",
    "  length = len(seq)\n",
    "  gc = base_counts.get(\"G\", 0) + base_counts.get(\"C\",0)\n",
    "  gc_percet = (gc / length) * 100 if length > 0 else 5\n",
    "print(f\"Sequence: {name}\")\n",
    "print(f\"length: {length}\")\n",
    "print(f\"Base counts: {dict(base_counts)}\")\n",
    "\n"
   ]
  },
  {
   "cell_type": "code",
   "execution_count": 9,
   "metadata": {},
   "outputs": [
    {
     "name": "stdout",
     "output_type": "stream",
     "text": [
      "{'seq1': {'c': 8, 'G': 1, 'T': 1, 'A': 1, 'a': 16, 't': 6, 'g': 1}, 'seq2': {'a': 3, 'g': 8, 'c': 4, 't': 4, 'T': 3, 'G': 2}, 'seq3': {'g': 16, 'c': 11, 'a': 13, 't': 10, 'C': 5, 'A': 5, 'N': 2}, 'seq4': {'g': 16, 'c': 11, 'a': 13, 't': 10, 'G': 2}}\n"
     ]
    }
   ],
   "source": [
    "\n",
    "current_key = None\n",
    "seq_dict = {}\n",
    "\n",
    "with open(\"dna_raw.txt\", \"r\") as file:\n",
    "    for line in file:\n",
    "        line = line.strip()\n",
    "        if line.startswith(\">\"):\n",
    "            current_key = line[1:]\n",
    "            seq_dict[current_key] = \"\"\n",
    "        else:\n",
    "            seq_dict[current_key] += line\n",
    "\n",
    "def count_bases(seq_dict): # defnerat en funktion\n",
    "    counts_per_key = {}  # anropat en tom dictionery \n",
    "    # en for loop \n",
    "    for key, seq in seq_dict.items(): # vi har en nyckel med värde seq \n",
    "        counts = Counter(seq) # ny vareable som använder countern för att senare räkna ut \n",
    "        counts_per_key[key] = dict(counts) # en varibale som går igennom en vareje nyckel\n",
    "    return (counts_per_key) # reuntern gör att fucnktionen avslutar efetr den har räknat varje värde\n",
    "result = count_bases(seq_dict) # detta ger oss resultatet.\n",
    "print(result)\n",
    "\n"
   ]
  },
  {
   "cell_type": "code",
   "execution_count": 17,
   "metadata": {},
   "outputs": [
    {
     "name": "stdout",
     "output_type": "stream",
     "text": [
      "{'seq4': {'g': 18, 'c': 15, 'a': 17, 't': 12, 'G': 2}}\n"
     ]
    }
   ],
   "source": [
    "import numpy as np \n",
    "import matplotlib.pyplot as plt\n",
    "from collections import Counter\n",
    "\n",
    "\n",
    "current_kay\n",
    "complicated_seq_dict = {}\n",
    "\n",
    "with open (\"dna_raw_complicated.txt\", \"r\") as file:\n",
    "    for line in file: \n",
    "        line = line.strip()\n",
    "        if line.startswith (\">\"):\n",
    "            current_kay = line[1:]\n",
    "            complicated_seq_dict[current_key] = \"\"\n",
    "        else: \n",
    "            complicated_seq_dict[current_key] += line \n",
    "\n",
    "def count_bases(complicated_seq_dict):\n",
    "    counts_per_key = {}\n",
    "    for keys, seq in complicated_seq_dict.items():\n",
    "        counts = Counter(seq)\n",
    "        counts_per_key[keys] = dict(counts)\n",
    "    return (counts_per_key) \n",
    "result = count_bases(complicated_seq_dict)\n",
    "print(result)"
   ]
  }
 ],
 "metadata": {
  "kernelspec": {
   "display_name": "Python 3",
   "language": "python",
   "name": "python3"
  },
  "language_info": {
   "codemirror_mode": {
    "name": "ipython",
    "version": 3
   },
   "file_extension": ".py",
   "mimetype": "text/x-python",
   "name": "python",
   "nbconvert_exporter": "python",
   "pygments_lexer": "ipython3",
   "version": "3.9.6"
  }
 },
 "nbformat": 4,
 "nbformat_minor": 2
}
